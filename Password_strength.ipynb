{
  "cells": [
    {
      "cell_type": "markdown",
      "id": "a6d42214",
      "metadata": {
        "id": "a6d42214"
      },
      "source": [
        "## Predicting Password Strength"
      ]
    },
    {
      "cell_type": "code",
      "execution_count": 1,
      "id": "9d0498ff-c7a1-48ef-9ae7-0c95a1c5fd4c",
      "metadata": {
        "id": "9d0498ff-c7a1-48ef-9ae7-0c95a1c5fd4c",
        "tags": []
      },
      "outputs": [],
      "source": [
        "# Importing Libraraies\n",
        "import pandas as pd\n",
        "import numpy as np\n",
        "import matplotlib.pyplot as plt\n",
        "from sklearn.model_selection import train_test_split\n",
        "from sklearn.feature_extraction.text import TfidfVectorizer\n",
        "from sklearn.ensemble import RandomForestClassifier, GradientBoostingClassifier\n",
        "from sklearn.svm import SVC\n",
        "from sklearn.metrics import classification_report"
      ]
    },
    {
      "cell_type": "markdown",
      "id": "eb8fdccb",
      "metadata": {
        "id": "eb8fdccb"
      },
      "source": [
        "#### Load the Data"
      ]
    },
    {
      "cell_type": "code",
      "execution_count": 2,
      "id": "c7d2953b",
      "metadata": {
        "id": "c7d2953b",
        "colab": {
          "base_uri": "https://localhost:8080/",
          "height": 143
        },
        "outputId": "5464ed92-8fa9-4770-c16c-6d8fd9dd5729"
      },
      "outputs": [
        {
          "output_type": "execute_result",
          "data": {
            "text/plain": [
              "    password  strength\n",
              "0   kzde5577         1\n",
              "1   kino3434         1\n",
              "2  visi7k1yr         1"
            ],
            "text/html": [
              "\n",
              "\n",
              "  <div id=\"df-26a0b2ad-9dc0-4b61-9506-b268d4681b6f\">\n",
              "    <div class=\"colab-df-container\">\n",
              "      <div>\n",
              "<style scoped>\n",
              "    .dataframe tbody tr th:only-of-type {\n",
              "        vertical-align: middle;\n",
              "    }\n",
              "\n",
              "    .dataframe tbody tr th {\n",
              "        vertical-align: top;\n",
              "    }\n",
              "\n",
              "    .dataframe thead th {\n",
              "        text-align: right;\n",
              "    }\n",
              "</style>\n",
              "<table border=\"1\" class=\"dataframe\">\n",
              "  <thead>\n",
              "    <tr style=\"text-align: right;\">\n",
              "      <th></th>\n",
              "      <th>password</th>\n",
              "      <th>strength</th>\n",
              "    </tr>\n",
              "  </thead>\n",
              "  <tbody>\n",
              "    <tr>\n",
              "      <th>0</th>\n",
              "      <td>kzde5577</td>\n",
              "      <td>1</td>\n",
              "    </tr>\n",
              "    <tr>\n",
              "      <th>1</th>\n",
              "      <td>kino3434</td>\n",
              "      <td>1</td>\n",
              "    </tr>\n",
              "    <tr>\n",
              "      <th>2</th>\n",
              "      <td>visi7k1yr</td>\n",
              "      <td>1</td>\n",
              "    </tr>\n",
              "  </tbody>\n",
              "</table>\n",
              "</div>\n",
              "      <button class=\"colab-df-convert\" onclick=\"convertToInteractive('df-26a0b2ad-9dc0-4b61-9506-b268d4681b6f')\"\n",
              "              title=\"Convert this dataframe to an interactive table.\"\n",
              "              style=\"display:none;\">\n",
              "\n",
              "  <svg xmlns=\"http://www.w3.org/2000/svg\" height=\"24px\"viewBox=\"0 0 24 24\"\n",
              "       width=\"24px\">\n",
              "    <path d=\"M0 0h24v24H0V0z\" fill=\"none\"/>\n",
              "    <path d=\"M18.56 5.44l.94 2.06.94-2.06 2.06-.94-2.06-.94-.94-2.06-.94 2.06-2.06.94zm-11 1L8.5 8.5l.94-2.06 2.06-.94-2.06-.94L8.5 2.5l-.94 2.06-2.06.94zm10 10l.94 2.06.94-2.06 2.06-.94-2.06-.94-.94-2.06-.94 2.06-2.06.94z\"/><path d=\"M17.41 7.96l-1.37-1.37c-.4-.4-.92-.59-1.43-.59-.52 0-1.04.2-1.43.59L10.3 9.45l-7.72 7.72c-.78.78-.78 2.05 0 2.83L4 21.41c.39.39.9.59 1.41.59.51 0 1.02-.2 1.41-.59l7.78-7.78 2.81-2.81c.8-.78.8-2.07 0-2.86zM5.41 20L4 18.59l7.72-7.72 1.47 1.35L5.41 20z\"/>\n",
              "  </svg>\n",
              "      </button>\n",
              "\n",
              "\n",
              "\n",
              "    <div id=\"df-9dd51ea3-986b-46da-9aad-4bfcc477b897\">\n",
              "      <button class=\"colab-df-quickchart\" onclick=\"quickchart('df-9dd51ea3-986b-46da-9aad-4bfcc477b897')\"\n",
              "              title=\"Suggest charts.\"\n",
              "              style=\"display:none;\">\n",
              "\n",
              "<svg xmlns=\"http://www.w3.org/2000/svg\" height=\"24px\"viewBox=\"0 0 24 24\"\n",
              "     width=\"24px\">\n",
              "    <g>\n",
              "        <path d=\"M19 3H5c-1.1 0-2 .9-2 2v14c0 1.1.9 2 2 2h14c1.1 0 2-.9 2-2V5c0-1.1-.9-2-2-2zM9 17H7v-7h2v7zm4 0h-2V7h2v10zm4 0h-2v-4h2v4z\"/>\n",
              "    </g>\n",
              "</svg>\n",
              "      </button>\n",
              "    </div>\n",
              "\n",
              "<style>\n",
              "  .colab-df-quickchart {\n",
              "    background-color: #E8F0FE;\n",
              "    border: none;\n",
              "    border-radius: 50%;\n",
              "    cursor: pointer;\n",
              "    display: none;\n",
              "    fill: #1967D2;\n",
              "    height: 32px;\n",
              "    padding: 0 0 0 0;\n",
              "    width: 32px;\n",
              "  }\n",
              "\n",
              "  .colab-df-quickchart:hover {\n",
              "    background-color: #E2EBFA;\n",
              "    box-shadow: 0px 1px 2px rgba(60, 64, 67, 0.3), 0px 1px 3px 1px rgba(60, 64, 67, 0.15);\n",
              "    fill: #174EA6;\n",
              "  }\n",
              "\n",
              "  [theme=dark] .colab-df-quickchart {\n",
              "    background-color: #3B4455;\n",
              "    fill: #D2E3FC;\n",
              "  }\n",
              "\n",
              "  [theme=dark] .colab-df-quickchart:hover {\n",
              "    background-color: #434B5C;\n",
              "    box-shadow: 0px 1px 3px 1px rgba(0, 0, 0, 0.15);\n",
              "    filter: drop-shadow(0px 1px 2px rgba(0, 0, 0, 0.3));\n",
              "    fill: #FFFFFF;\n",
              "  }\n",
              "</style>\n",
              "\n",
              "    <script>\n",
              "      async function quickchart(key) {\n",
              "        const containerElement = document.querySelector('#' + key);\n",
              "        const charts = await google.colab.kernel.invokeFunction(\n",
              "            'suggestCharts', [key], {});\n",
              "      }\n",
              "    </script>\n",
              "\n",
              "      <script>\n",
              "\n",
              "function displayQuickchartButton(domScope) {\n",
              "  let quickchartButtonEl =\n",
              "    domScope.querySelector('#df-9dd51ea3-986b-46da-9aad-4bfcc477b897 button.colab-df-quickchart');\n",
              "  quickchartButtonEl.style.display =\n",
              "    google.colab.kernel.accessAllowed ? 'block' : 'none';\n",
              "}\n",
              "\n",
              "        displayQuickchartButton(document);\n",
              "      </script>\n",
              "      <style>\n",
              "    .colab-df-container {\n",
              "      display:flex;\n",
              "      flex-wrap:wrap;\n",
              "      gap: 12px;\n",
              "    }\n",
              "\n",
              "    .colab-df-convert {\n",
              "      background-color: #E8F0FE;\n",
              "      border: none;\n",
              "      border-radius: 50%;\n",
              "      cursor: pointer;\n",
              "      display: none;\n",
              "      fill: #1967D2;\n",
              "      height: 32px;\n",
              "      padding: 0 0 0 0;\n",
              "      width: 32px;\n",
              "    }\n",
              "\n",
              "    .colab-df-convert:hover {\n",
              "      background-color: #E2EBFA;\n",
              "      box-shadow: 0px 1px 2px rgba(60, 64, 67, 0.3), 0px 1px 3px 1px rgba(60, 64, 67, 0.15);\n",
              "      fill: #174EA6;\n",
              "    }\n",
              "\n",
              "    [theme=dark] .colab-df-convert {\n",
              "      background-color: #3B4455;\n",
              "      fill: #D2E3FC;\n",
              "    }\n",
              "\n",
              "    [theme=dark] .colab-df-convert:hover {\n",
              "      background-color: #434B5C;\n",
              "      box-shadow: 0px 1px 3px 1px rgba(0, 0, 0, 0.15);\n",
              "      filter: drop-shadow(0px 1px 2px rgba(0, 0, 0, 0.3));\n",
              "      fill: #FFFFFF;\n",
              "    }\n",
              "  </style>\n",
              "\n",
              "      <script>\n",
              "        const buttonEl =\n",
              "          document.querySelector('#df-26a0b2ad-9dc0-4b61-9506-b268d4681b6f button.colab-df-convert');\n",
              "        buttonEl.style.display =\n",
              "          google.colab.kernel.accessAllowed ? 'block' : 'none';\n",
              "\n",
              "        async function convertToInteractive(key) {\n",
              "          const element = document.querySelector('#df-26a0b2ad-9dc0-4b61-9506-b268d4681b6f');\n",
              "          const dataTable =\n",
              "            await google.colab.kernel.invokeFunction('convertToInteractive',\n",
              "                                                     [key], {});\n",
              "          if (!dataTable) return;\n",
              "\n",
              "          const docLinkHtml = 'Like what you see? Visit the ' +\n",
              "            '<a target=\"_blank\" href=https://colab.research.google.com/notebooks/data_table.ipynb>data table notebook</a>'\n",
              "            + ' to learn more about interactive tables.';\n",
              "          element.innerHTML = '';\n",
              "          dataTable['output_type'] = 'display_data';\n",
              "          await google.colab.output.renderOutput(dataTable, element);\n",
              "          const docLink = document.createElement('div');\n",
              "          docLink.innerHTML = docLinkHtml;\n",
              "          element.appendChild(docLink);\n",
              "        }\n",
              "      </script>\n",
              "    </div>\n",
              "  </div>\n"
            ]
          },
          "metadata": {},
          "execution_count": 2
        }
      ],
      "source": [
        "# Load your dataset\n",
        "data = pd.read_csv('data.csv', on_bad_lines='skip')\n",
        "data = data.dropna()\n",
        "data = data.iloc[:100000]\n",
        "data.head(n=3)"
      ]
    },
    {
      "cell_type": "markdown",
      "id": "962303d1",
      "metadata": {
        "id": "962303d1"
      },
      "source": [
        "### Data Exploration"
      ]
    },
    {
      "cell_type": "code",
      "execution_count": 4,
      "id": "d85247f3",
      "metadata": {
        "colab": {
          "base_uri": "https://localhost:8080/"
        },
        "id": "d85247f3",
        "outputId": "aea280c0-4a71-4afa-801b-3dd7f260bb11"
      },
      "outputs": [
        {
          "output_type": "execute_result",
          "data": {
            "text/plain": [
              "(100000, 2)"
            ]
          },
          "metadata": {},
          "execution_count": 4
        }
      ],
      "source": [
        "data.shape"
      ]
    },
    {
      "cell_type": "code",
      "execution_count": 5,
      "id": "c4c8f497",
      "metadata": {
        "colab": {
          "base_uri": "https://localhost:8080/"
        },
        "id": "c4c8f497",
        "outputId": "c5391626-6dc2-4f71-e989-fdf37aa249ec"
      },
      "outputs": [
        {
          "output_type": "execute_result",
          "data": {
            "text/plain": [
              "100000"
            ]
          },
          "metadata": {},
          "execution_count": 5
        }
      ],
      "source": [
        "len(data['password'].unique())"
      ]
    },
    {
      "cell_type": "markdown",
      "id": "59161b4f",
      "metadata": {
        "id": "59161b4f"
      },
      "source": [
        "As we can see all the passwords in our dataset are unique. This means that the dataset isn't possibly a good representation of a real-life scenario."
      ]
    },
    {
      "cell_type": "code",
      "execution_count": 6,
      "id": "64e9362f",
      "metadata": {
        "colab": {
          "base_uri": "https://localhost:8080/",
          "height": 406
        },
        "id": "64e9362f",
        "outputId": "7f86f51b-c507-4fe2-b36b-2c87f58e40e7"
      },
      "outputs": [
        {
          "output_type": "display_data",
          "data": {
            "text/plain": [
              "<Figure size 640x480 with 1 Axes>"
            ],
            "image/png": "[encoded data removed]"
          },
          "metadata": {}
        }
      ],
      "source": [
        "stgth = data.groupby(['strength']).size().reset_index().rename(columns={0:'size'})\n",
        "\n",
        "fig, ax = plt.subplots()\n",
        "ax.pie(stgth['size'].tolist(), labels=stgth['strength'].tolist(), autopct='%1.1f%%', startangle=30)\n",
        "plt.show()"
      ]
    },
    {
      "cell_type": "markdown",
      "id": "69c97b30",
      "metadata": {
        "id": "69c97b30"
      },
      "source": [
        "From this chart, we see that the password strength is defined as 0, 1 and 2 (with 0 being the lowest and 2 being the highest). **74%** of the passwords in our dataset have the the password strength 1."
      ]
    },
    {
      "cell_type": "markdown",
      "id": "57a39638",
      "metadata": {
        "id": "57a39638"
      },
      "source": [
        "### Modelling"
      ]
    },
    {
      "cell_type": "code",
      "execution_count": 7,
      "id": "04d1dfc6",
      "metadata": {
        "id": "04d1dfc6"
      },
      "outputs": [],
      "source": [
        "# Define features and labels\n",
        "X = data['password']\n",
        "y = data['strength']"
      ]
    },
    {
      "cell_type": "code",
      "execution_count": 8,
      "id": "30314236",
      "metadata": {
        "id": "30314236"
      },
      "outputs": [],
      "source": [
        "# Split the dataset into training and testing sets\n",
        "X_train, X_test, y_train, y_test = train_test_split(X, y, test_size=0.2, random_state=42)"
      ]
    },
    {
      "cell_type": "markdown",
      "id": "0d6ae907",
      "metadata": {
        "id": "0d6ae907"
      },
      "source": [
        "###TF-IDF\n",
        "TF-IDF takes into account both the frequency of characters in a password and how unique those characters are across the entire dataset. Common characters like 'a', 'b', etc., that appear in many passwords but don't provide much discriminative information are given lower importance. Rare characters that appear only in a few passwords but could be indicative of strong passwords are given higher importance."
      ]
    },
    {
      "cell_type": "code",
      "execution_count": 9,
      "id": "ea284901",
      "metadata": {
        "id": "ea284901"
      },
      "outputs": [],
      "source": [
        "# Convert passwords to TF-IDF features\n",
        "vectorizer = TfidfVectorizer(analyzer='char', ngram_range=(1, 3))\n",
        "X_train_tfidf = vectorizer.fit_transform(X_train)\n",
        "X_test_tfidf = vectorizer.transform(X_test)"
      ]
    },
    {
      "cell_type": "markdown",
      "source": [
        "###Random Forest Classifier:\n",
        "Random Forest builds multiple decision trees during training and aggregates their predictions to make a final decision. Each tree is trained on a random subset of the data and features, reducing overfitting and increasing generalization.\n",
        "\n",
        "###Gradient Boosting Classifier:\n",
        "Gradient Boosting builds a sequence of weak learners, with each new learner focusing on correcting the mistakes of the previous ones. It assigns higher weights to misclassified samples, leading to a stronger final model.\n",
        "\n",
        "###Support Vector Machine (SVM):\n",
        "SVM aims to find the optimal hyperplane that maximizes the margin between classes in feature space. It transforms data into a higher-dimensional space to make complex separation decisions."
      ],
      "metadata": {
        "id": "rVX4Ik2HP9HX"
      },
      "id": "rVX4Ik2HP9HX"
    },
    {
      "cell_type": "code",
      "execution_count": 10,
      "id": "08563cfb",
      "metadata": {
        "id": "08563cfb"
      },
      "outputs": [],
      "source": [
        "# Initialize and train classifiers\n",
        "classifiers = [\n",
        "    RandomForestClassifier(n_estimators=100, random_state=42),\n",
        "    GradientBoostingClassifier(n_estimators=100, random_state=42),\n",
        "    SVC(kernel='linear', C=1)\n",
        "]"
      ]
    },
    {
      "cell_type": "code",
      "execution_count": 11,
      "id": "a2d35342",
      "metadata": {
        "id": "a2d35342",
        "outputId": "017a256c-707d-413d-cab7-8197c0cb3fbe",
        "colab": {
          "base_uri": "https://localhost:8080/"
        }
      },
      "outputs": [
        {
          "output_type": "stream",
          "name": "stdout",
          "text": [
            "Training RandomForestClassifier...\n",
            "RandomForestClassifier trained.\n",
            "============================================================\n",
            "Training GradientBoostingClassifier...\n",
            "GradientBoostingClassifier trained.\n",
            "============================================================\n",
            "Training SVC...\n",
            "SVC trained.\n",
            "============================================================\n"
          ]
        }
      ],
      "source": [
        "for classifier in classifiers:\n",
        "    classifier_name = type(classifier).__name__\n",
        "    print(f\"Training {classifier_name}...\")\n",
        "    classifier.fit(X_train_tfidf, y_train)\n",
        "    print(f\"{classifier_name} trained.\")\n",
        "    print(\"=\" * 60)"
      ]
    },
    {
      "cell_type": "code",
      "execution_count": 12,
      "id": "39856bd3",
      "metadata": {
        "id": "39856bd3",
        "colab": {
          "base_uri": "https://localhost:8080/"
        },
        "outputId": "c51621d9-d888-4f79-e48a-108451da99c2"
      },
      "outputs": [
        {
          "output_type": "stream",
          "name": "stdout",
          "text": [
            "Classification Report for RandomForestClassifier:\n",
            "              precision    recall  f1-score   support\n",
            "\n",
            "           0       0.89      0.54      0.67      2741\n",
            "           1       0.89      0.99      0.94     14748\n",
            "           2       0.98      0.79      0.88      2511\n",
            "\n",
            "    accuracy                           0.90     20000\n",
            "   macro avg       0.92      0.77      0.83     20000\n",
            "weighted avg       0.90      0.90      0.89     20000\n",
            "\n",
            "============================================================\n",
            "Classification Report for GradientBoostingClassifier:\n",
            "              precision    recall  f1-score   support\n",
            "\n",
            "           0       0.89      0.57      0.70      2741\n",
            "           1       0.91      0.98      0.94     14748\n",
            "           2       0.96      0.89      0.92      2511\n",
            "\n",
            "    accuracy                           0.91     20000\n",
            "   macro avg       0.92      0.81      0.85     20000\n",
            "weighted avg       0.91      0.91      0.91     20000\n",
            "\n",
            "============================================================\n",
            "Classification Report for SVC:\n",
            "              precision    recall  f1-score   support\n",
            "\n",
            "           0       0.80      0.52      0.63      2741\n",
            "           1       0.90      0.97      0.93     14748\n",
            "           2       0.97      0.89      0.93      2511\n",
            "\n",
            "    accuracy                           0.90     20000\n",
            "   macro avg       0.89      0.79      0.83     20000\n",
            "weighted avg       0.90      0.90      0.89     20000\n",
            "\n",
            "============================================================\n"
          ]
        }
      ],
      "source": [
        "# Make predictions and print classification reports\n",
        "for i, classifier in enumerate(classifiers):\n",
        "    predictions = classifier.predict(X_test_tfidf)\n",
        "    classifier_name = type(classifier).__name__\n",
        "\n",
        "    print(f\"Classification Report for {classifier_name}:\")\n",
        "    print(classification_report(y_test, predictions))\n",
        "    print(\"=\" * 60)"
      ]
    },
    {
      "cell_type": "code",
      "source": [
        "# Interactive input for password classification\n",
        "label_mapping = {\n",
        "    0: 'Weak',\n",
        "    1: 'Normal',\n",
        "    2: 'Strong'\n",
        "}\n",
        "\n",
        "while True:\n",
        "    input_password = input(\"Enter a password (or 'exit' to quit): \")\n",
        "    if input_password == 'exit':\n",
        "        break\n",
        "\n",
        "    input_tfidf = vectorizer.transform([input_password])\n",
        "\n",
        "    predictions = {}\n",
        "    for idx, classifier in enumerate(classifiers):\n",
        "        classifier_name = type(classifier).__name__\n",
        "        prediction = classifier.predict(input_tfidf)[0]\n",
        "        predictions[classifier_name] = label_mapping[prediction]\n",
        "\n",
        "    print(\"Password Strength Predictions:\")\n",
        "    for classifier_name, prediction in predictions.items():\n",
        "        print(f\"{classifier_name}: {prediction}\")\n",
        "\n",
        "print(\"Goodbye!\")"
      ],
      "metadata": {
        "colab": {
          "base_uri": "https://localhost:8080/"
        },
        "id": "DJhJHm89Ykq-",
        "outputId": "a227868b-47ff-49b5-ac58-c602d9d6ed7e"
      },
      "id": "DJhJHm89Ykq-",
      "execution_count": 16,
      "outputs": [
        {
          "output_type": "stream",
          "name": "stdout",
          "text": [
            "Enter a password (or 'exit' to quit): afsafwf\n",
            "Password Strength Predictions:\n",
            "RandomForestClassifier: Normal\n",
            "GradientBoostingClassifier: Normal\n",
            "SVC: Weak\n",
            "Enter a password (or 'exit' to quit): 21j341u2#4q2%\n",
            "Password Strength Predictions:\n",
            "RandomForestClassifier: Normal\n",
            "GradientBoostingClassifier: Normal\n",
            "SVC: Strong\n",
            "Enter a password (or 'exit' to quit): exit\n",
            "Goodbye!\n"
          ]
        }
      ]
    },
    {
      "cell_type": "code",
      "source": [],
      "metadata": {
        "id": "NKACX3_NYld0"
      },
      "id": "NKACX3_NYld0",
      "execution_count": null,
      "outputs": []
    }
  ],
  "metadata": {
    "colab": {
      "provenance": []
    },
    "kernelspec": {
      "display_name": "Python 3 (ipykernel)",
      "language": "python",
      "name": "python3"
    },
    "language_info": {
      "codemirror_mode": {
        "name": "ipython",
        "version": 3
      },
      "file_extension": ".py",
      "mimetype": "text/x-python",
      "name": "python",
      "nbconvert_exporter": "python",
      "pygments_lexer": "ipython3",
      "version": "3.9.12"
    }
  },
  "nbformat": 4,
  "nbformat_minor": 5
}